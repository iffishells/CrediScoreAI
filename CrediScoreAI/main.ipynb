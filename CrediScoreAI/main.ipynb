{
 "cells": [
  {
   "cell_type": "markdown",
   "id": "82b538476d944a63",
   "metadata": {},
   "source": [
    "# 1.0 Required Libraries"
   ]
  },
  {
   "cell_type": "code",
   "execution_count": 42,
   "id": "initial_id",
   "metadata": {
    "ExecuteTime": {
     "end_time": "2024-12-08T05:13:10.233727Z",
     "start_time": "2024-12-08T05:13:10.231320Z"
    }
   },
   "outputs": [],
   "source": [
    "from app.configs.logging_file import logging\n",
    "from urllib.parse import urlparse\n",
    "from app.models.data_preprocessing import DataPreprocessing\n",
    "import pandas as pd\n",
    "import numpy as np\n",
    "from bs4 import BeautifulSoup\n",
    "import os"
   ]
  },
  {
   "cell_type": "code",
   "execution_count": 2,
   "id": "8477ecb2-6d68-4f6f-80e4-1c8dea832086",
   "metadata": {},
   "outputs": [
    {
     "name": "stderr",
     "output_type": "stream",
     "text": [
      "2024-12-08 12:29:09 - 1426566399.py - Line: 6 - <module>() - INFO - __path_dict__ : {'web_credibility_1000_url_ratings': 'app/datasets/webcredibility-1/webcredibility/web_credibility_1000_url_ratings.xls', 'web_credibility_expert_ratings_for_test_set': 'app/datasets/webcredibility-1/webcredibility/web_credibility_expert_ratings_for_test_set.xlsx'}\n"
     ]
    }
   ],
   "source": [
    "path_dict = {\n",
    "    \"web_credibility_1000_url_ratings\": os.path.join(\"app\",\"datasets\",\"webcredibility-1\",\"webcredibility\",\"web_credibility_1000_url_ratings.xls\"),\n",
    "    \"web_credibility_expert_ratings_for_test_set\": os.path.join(\"app\",\"datasets\",\"webcredibility-1\",\"webcredibility\",\"web_credibility_expert_ratings_for_test_set.xlsx\"),\n",
    "    \n",
    "}\n",
    "logging.info(f\"__path_dict__ : {path_dict}\")"
   ]
  },
  {
   "cell_type": "code",
   "execution_count": 3,
   "id": "db1f2378-bc02-4c77-9ced-34916339aade",
   "metadata": {},
   "outputs": [],
   "source": [
    "if os.path.exists(path_dict['web_credibility_1000_url_ratings']):\n",
    "    web_credibility_1000_url_ratings_df = pd.read_excel(path_dict['web_credibility_1000_url_ratings'])\n",
    "else:\n",
    "    logging.error(f\"File not found at given path: {path_dict['web_credibility_1000_url_ratings']}\")\n",
    "\n",
    "if os.path.exists(path_dict['web_credibility_expert_ratings_for_test_set']):\n",
    "    web_credibility_expert_ratings_for_test_set_df = pd.read_excel(path_dict['web_credibility_expert_ratings_for_test_set'])\n",
    "else:\n",
    "    logging.error(f\"File not found at given path : {path_dict['web_credibility_expert_ratings_for_test_set']}\")"
   ]
  },
  {
   "cell_type": "code",
   "execution_count": 4,
   "id": "91888568-629d-4f0f-a842-bfd76295f24b",
   "metadata": {},
   "outputs": [
    {
     "name": "stderr",
     "output_type": "stream",
     "text": [
      "2024-12-08 12:29:10 - 3884070208.py - Line: 1 - <module>() - INFO - Shape of web_credibility_1000_url_ratings_df : (1000, 5)\n"
     ]
    },
    {
     "data": {
      "text/html": [
       "<div>\n",
       "<style scoped>\n",
       "    .dataframe tbody tr th:only-of-type {\n",
       "        vertical-align: middle;\n",
       "    }\n",
       "\n",
       "    .dataframe tbody tr th {\n",
       "        vertical-align: top;\n",
       "    }\n",
       "\n",
       "    .dataframe thead th {\n",
       "        text-align: right;\n",
       "    }\n",
       "</style>\n",
       "<table border=\"1\" class=\"dataframe\">\n",
       "  <thead>\n",
       "    <tr style=\"text-align: right;\">\n",
       "      <th></th>\n",
       "      <th>Topic</th>\n",
       "      <th>Query</th>\n",
       "      <th>Result Rank</th>\n",
       "      <th>URL</th>\n",
       "      <th>Likert Rating</th>\n",
       "    </tr>\n",
       "  </thead>\n",
       "  <tbody>\n",
       "    <tr>\n",
       "      <th>0</th>\n",
       "      <td>Celebrities</td>\n",
       "      <td>adam lambert</td>\n",
       "      <td>1</td>\n",
       "      <td>http://en.wikipedia.org/wiki/Adam_Lambert</td>\n",
       "      <td>5</td>\n",
       "    </tr>\n",
       "    <tr>\n",
       "      <th>1</th>\n",
       "      <td>Celebrities</td>\n",
       "      <td>adam lambert</td>\n",
       "      <td>2</td>\n",
       "      <td>http://www.adamofficial.com/us/intro</td>\n",
       "      <td>4</td>\n",
       "    </tr>\n",
       "    <tr>\n",
       "      <th>2</th>\n",
       "      <td>Celebrities</td>\n",
       "      <td>adam lambert</td>\n",
       "      <td>3</td>\n",
       "      <td>http://www.adamofficial.com/us/home</td>\n",
       "      <td>4</td>\n",
       "    </tr>\n",
       "    <tr>\n",
       "      <th>3</th>\n",
       "      <td>Celebrities</td>\n",
       "      <td>adam lambert</td>\n",
       "      <td>4</td>\n",
       "      <td>http://www.thehollywoodgossip.com/2010/06/new-...</td>\n",
       "      <td>3</td>\n",
       "    </tr>\n",
       "    <tr>\n",
       "      <th>4</th>\n",
       "      <td>Celebrities</td>\n",
       "      <td>adam lambert</td>\n",
       "      <td>5</td>\n",
       "      <td>http://www.americanidol.com/contestants/season...</td>\n",
       "      <td>4</td>\n",
       "    </tr>\n",
       "  </tbody>\n",
       "</table>\n",
       "</div>"
      ],
      "text/plain": [
       "         Topic         Query  Result Rank  \\\n",
       "0  Celebrities  adam lambert            1   \n",
       "1  Celebrities  adam lambert            2   \n",
       "2  Celebrities  adam lambert            3   \n",
       "3  Celebrities  adam lambert            4   \n",
       "4  Celebrities  adam lambert            5   \n",
       "\n",
       "                                                 URL  Likert Rating  \n",
       "0          http://en.wikipedia.org/wiki/Adam_Lambert              5  \n",
       "1               http://www.adamofficial.com/us/intro              4  \n",
       "2                http://www.adamofficial.com/us/home              4  \n",
       "3  http://www.thehollywoodgossip.com/2010/06/new-...              3  \n",
       "4  http://www.americanidol.com/contestants/season...              4  "
      ]
     },
     "execution_count": 4,
     "metadata": {},
     "output_type": "execute_result"
    }
   ],
   "source": [
    "logging.info(f\"Shape of web_credibility_1000_url_ratings_df : {web_credibility_1000_url_ratings_df.shape}\")\n",
    "web_credibility_1000_url_ratings_df.head()"
   ]
  },
  {
   "cell_type": "code",
   "execution_count": 5,
   "id": "344c4160-8849-4404-848a-df3169f2e2b1",
   "metadata": {},
   "outputs": [
    {
     "name": "stderr",
     "output_type": "stream",
     "text": [
      "2024-12-08 12:29:11 - 1743633977.py - Line: 1 - <module>() - INFO - shape of web_credibility_expert_ratings_for_test_set_df : (40, 5)\n"
     ]
    },
    {
     "data": {
      "text/html": [
       "<div>\n",
       "<style scoped>\n",
       "    .dataframe tbody tr th:only-of-type {\n",
       "        vertical-align: middle;\n",
       "    }\n",
       "\n",
       "    .dataframe tbody tr th {\n",
       "        vertical-align: top;\n",
       "    }\n",
       "\n",
       "    .dataframe thead th {\n",
       "        text-align: right;\n",
       "    }\n",
       "</style>\n",
       "<table border=\"1\" class=\"dataframe\">\n",
       "  <thead>\n",
       "    <tr style=\"text-align: right;\">\n",
       "      <th></th>\n",
       "      <th>Topic</th>\n",
       "      <th>Query</th>\n",
       "      <th>URL</th>\n",
       "      <th>Rater ID</th>\n",
       "      <th>Likert Rating</th>\n",
       "    </tr>\n",
       "  </thead>\n",
       "  <tbody>\n",
       "    <tr>\n",
       "      <th>0</th>\n",
       "      <td>Health</td>\n",
       "      <td>h1n1 vaccine side effects</td>\n",
       "      <td>http://canadiansforhealthfreedom.wordpress.com...</td>\n",
       "      <td>Medical Expert 1</td>\n",
       "      <td>1</td>\n",
       "    </tr>\n",
       "    <tr>\n",
       "      <th>1</th>\n",
       "      <td>Health</td>\n",
       "      <td>h1n1 vaccine side effects</td>\n",
       "      <td>http://canadiansforhealthfreedom.wordpress.com...</td>\n",
       "      <td>Medical Expert 2</td>\n",
       "      <td>1</td>\n",
       "    </tr>\n",
       "    <tr>\n",
       "      <th>2</th>\n",
       "      <td>Health</td>\n",
       "      <td>h1n1 vaccine side effects</td>\n",
       "      <td>http://health.blogs.foxnews.com/2009/10/26/tra...</td>\n",
       "      <td>Medical Expert 1</td>\n",
       "      <td>4</td>\n",
       "    </tr>\n",
       "    <tr>\n",
       "      <th>3</th>\n",
       "      <td>Health</td>\n",
       "      <td>h1n1 vaccine side effects</td>\n",
       "      <td>http://health.blogs.foxnews.com/2009/10/26/tra...</td>\n",
       "      <td>Medical Expert 2</td>\n",
       "      <td>2</td>\n",
       "    </tr>\n",
       "    <tr>\n",
       "      <th>4</th>\n",
       "      <td>Health</td>\n",
       "      <td>h1n1 vaccine side effects</td>\n",
       "      <td>http://revealedtruth.wordpress.com/2009/08/11/...</td>\n",
       "      <td>Medical Expert 1</td>\n",
       "      <td>1</td>\n",
       "    </tr>\n",
       "  </tbody>\n",
       "</table>\n",
       "</div>"
      ],
      "text/plain": [
       "    Topic                      Query  \\\n",
       "0  Health  h1n1 vaccine side effects   \n",
       "1  Health  h1n1 vaccine side effects   \n",
       "2  Health  h1n1 vaccine side effects   \n",
       "3  Health  h1n1 vaccine side effects   \n",
       "4  Health  h1n1 vaccine side effects   \n",
       "\n",
       "                                                 URL          Rater ID  \\\n",
       "0  http://canadiansforhealthfreedom.wordpress.com...  Medical Expert 1   \n",
       "1  http://canadiansforhealthfreedom.wordpress.com...  Medical Expert 2   \n",
       "2  http://health.blogs.foxnews.com/2009/10/26/tra...  Medical Expert 1   \n",
       "3  http://health.blogs.foxnews.com/2009/10/26/tra...  Medical Expert 2   \n",
       "4  http://revealedtruth.wordpress.com/2009/08/11/...  Medical Expert 1   \n",
       "\n",
       "   Likert Rating  \n",
       "0              1  \n",
       "1              1  \n",
       "2              4  \n",
       "3              2  \n",
       "4              1  "
      ]
     },
     "execution_count": 5,
     "metadata": {},
     "output_type": "execute_result"
    }
   ],
   "source": [
    "logging.info(f\"shape of web_credibility_expert_ratings_for_test_set_df : {web_credibility_expert_ratings_for_test_set_df.shape}\")\n",
    "web_credibility_expert_ratings_for_test_set_df.head()"
   ]
  },
  {
   "cell_type": "code",
   "execution_count": null,
   "id": "4ea5abe7-b786-4991-8be9-3983f5c8433d",
   "metadata": {},
   "outputs": [],
   "source": []
  },
  {
   "cell_type": "code",
   "execution_count": 6,
   "id": "e2171d77-a955-4201-9772-ca0e7657b4ba",
   "metadata": {},
   "outputs": [],
   "source": [
    "def get_domain(url=None):\n",
    "    if url:\n",
    "        parsed_url = urlparse(url)  # Parse the URL\n",
    "        return parsed_url.netloc  # Extract the domain (e.g., 'example.com')\n",
    "    return None\n",
    "def check_cached_pages_existance(domain=None):\n",
    "    list_of_caches_files = os.listdir(os.path.join(\"app\",\"datasets\",\"webcredibility-1\",\"webcredibility\",\"cached_pages\"))\n",
    "    if domain in list_of_caches_files:\n",
    "        return True\n",
    "    else:\n",
    "        return False\n",
    "    \n",
    "web_credibility_1000_url_ratings_df['domain'] = web_credibility_1000_url_ratings_df['URL'].apply(lambda url : get_domain(url = url))\n",
    "web_credibility_1000_url_ratings_df['check_cached_pages_existance'] = web_credibility_1000_url_ratings_df['domain'].apply(lambda domain : \n",
    "                                                                                                                          check_cached_pages_existance(domain = domain))"
   ]
  },
  {
   "cell_type": "code",
   "execution_count": 7,
   "id": "1580bee3-d740-4ce3-879d-fcf9d5f336e9",
   "metadata": {},
   "outputs": [
    {
     "data": {
      "text/plain": [
       "check_cached_pages_existance\n",
       "True     950\n",
       "False     50\n",
       "Name: count, dtype: int64"
      ]
     },
     "execution_count": 7,
     "metadata": {},
     "output_type": "execute_result"
    }
   ],
   "source": [
    "web_credibility_1000_url_ratings_df['check_cached_pages_existance'].value_counts()"
   ]
  },
  {
   "cell_type": "markdown",
   "id": "20c62b7499d559ee",
   "metadata": {},
   "source": [
    "## 2.0 **Content Features**\n",
    "1. Word count \n",
    "2. Average sentence length\n",
    "3. Keyword density\n",
    "4. Number of outbound links\n",
    "5. Presence of authoritative links (e.g., .gov, .edu)\n",
    "6. Number of broken links\n",
    "7. Sentiment analysis score\n",
    "8. Frequency of grammatical errors\n",
    "\n"
   ]
  },
  {
   "cell_type": "code",
   "execution_count": 13,
   "id": "03f1a526-d7ad-4133-8913-894c3d9e9f96",
   "metadata": {},
   "outputs": [
    {
     "data": {
      "text/html": [
       "<div>\n",
       "<style scoped>\n",
       "    .dataframe tbody tr th:only-of-type {\n",
       "        vertical-align: middle;\n",
       "    }\n",
       "\n",
       "    .dataframe tbody tr th {\n",
       "        vertical-align: top;\n",
       "    }\n",
       "\n",
       "    .dataframe thead th {\n",
       "        text-align: right;\n",
       "    }\n",
       "</style>\n",
       "<table border=\"1\" class=\"dataframe\">\n",
       "  <thead>\n",
       "    <tr style=\"text-align: right;\">\n",
       "      <th></th>\n",
       "      <th>Topic</th>\n",
       "      <th>Query</th>\n",
       "      <th>Result Rank</th>\n",
       "      <th>URL</th>\n",
       "      <th>Likert Rating</th>\n",
       "      <th>domain</th>\n",
       "      <th>check_cached_pages_existance</th>\n",
       "      <th>html_walk_paths</th>\n",
       "    </tr>\n",
       "  </thead>\n",
       "  <tbody>\n",
       "    <tr>\n",
       "      <th>0</th>\n",
       "      <td>Celebrities</td>\n",
       "      <td>adam lambert</td>\n",
       "      <td>1</td>\n",
       "      <td>http://en.wikipedia.org/wiki/Adam_Lambert</td>\n",
       "      <td>5</td>\n",
       "      <td>en.wikipedia.org</td>\n",
       "      <td>False</td>\n",
       "      <td>[]</td>\n",
       "    </tr>\n",
       "    <tr>\n",
       "      <th>1</th>\n",
       "      <td>Celebrities</td>\n",
       "      <td>adam lambert</td>\n",
       "      <td>2</td>\n",
       "      <td>http://www.adamofficial.com/us/intro</td>\n",
       "      <td>4</td>\n",
       "      <td>www.adamofficial.com</td>\n",
       "      <td>True</td>\n",
       "      <td>[app/datasets/webcredibility-1/webcredibility/...</td>\n",
       "    </tr>\n",
       "    <tr>\n",
       "      <th>2</th>\n",
       "      <td>Celebrities</td>\n",
       "      <td>adam lambert</td>\n",
       "      <td>3</td>\n",
       "      <td>http://www.adamofficial.com/us/home</td>\n",
       "      <td>4</td>\n",
       "      <td>www.adamofficial.com</td>\n",
       "      <td>True</td>\n",
       "      <td>[app/datasets/webcredibility-1/webcredibility/...</td>\n",
       "    </tr>\n",
       "    <tr>\n",
       "      <th>3</th>\n",
       "      <td>Celebrities</td>\n",
       "      <td>adam lambert</td>\n",
       "      <td>4</td>\n",
       "      <td>http://www.thehollywoodgossip.com/2010/06/new-...</td>\n",
       "      <td>3</td>\n",
       "      <td>www.thehollywoodgossip.com</td>\n",
       "      <td>True</td>\n",
       "      <td>[app/datasets/webcredibility-1/webcredibility/...</td>\n",
       "    </tr>\n",
       "    <tr>\n",
       "      <th>4</th>\n",
       "      <td>Celebrities</td>\n",
       "      <td>adam lambert</td>\n",
       "      <td>5</td>\n",
       "      <td>http://www.americanidol.com/contestants/season...</td>\n",
       "      <td>4</td>\n",
       "      <td>www.americanidol.com</td>\n",
       "      <td>True</td>\n",
       "      <td>[app/datasets/webcredibility-1/webcredibility/...</td>\n",
       "    </tr>\n",
       "    <tr>\n",
       "      <th>...</th>\n",
       "      <td>...</td>\n",
       "      <td>...</td>\n",
       "      <td>...</td>\n",
       "      <td>...</td>\n",
       "      <td>...</td>\n",
       "      <td>...</td>\n",
       "      <td>...</td>\n",
       "      <td>...</td>\n",
       "    </tr>\n",
       "    <tr>\n",
       "      <th>995</th>\n",
       "      <td>Politics</td>\n",
       "      <td>Tea Party</td>\n",
       "      <td>36</td>\n",
       "      <td>http://stlouisteaparty.com/</td>\n",
       "      <td>3</td>\n",
       "      <td>stlouisteaparty.com</td>\n",
       "      <td>True</td>\n",
       "      <td>[app/datasets/webcredibility-1/webcredibility/...</td>\n",
       "    </tr>\n",
       "    <tr>\n",
       "      <th>996</th>\n",
       "      <td>Politics</td>\n",
       "      <td>Tea Party</td>\n",
       "      <td>37</td>\n",
       "      <td>http://abcnews.go.com/Politics/tea-party-prote...</td>\n",
       "      <td>4</td>\n",
       "      <td>abcnews.go.com</td>\n",
       "      <td>True</td>\n",
       "      <td>[app/datasets/webcredibility-1/webcredibility/...</td>\n",
       "    </tr>\n",
       "    <tr>\n",
       "      <th>997</th>\n",
       "      <td>Politics</td>\n",
       "      <td>Tea Party</td>\n",
       "      <td>38</td>\n",
       "      <td>http://topics.politico.com/index.cfm/topic/Tea...</td>\n",
       "      <td>3</td>\n",
       "      <td>topics.politico.com</td>\n",
       "      <td>True</td>\n",
       "      <td>[app/datasets/webcredibility-1/webcredibility/...</td>\n",
       "    </tr>\n",
       "    <tr>\n",
       "      <th>998</th>\n",
       "      <td>Politics</td>\n",
       "      <td>Tea Party</td>\n",
       "      <td>39</td>\n",
       "      <td>http://www.nationwidechicagoteaparty.com/</td>\n",
       "      <td>3</td>\n",
       "      <td>www.nationwidechicagoteaparty.com</td>\n",
       "      <td>True</td>\n",
       "      <td>[app/datasets/webcredibility-1/webcredibility/...</td>\n",
       "    </tr>\n",
       "    <tr>\n",
       "      <th>999</th>\n",
       "      <td>Politics</td>\n",
       "      <td>Tea Party</td>\n",
       "      <td>40</td>\n",
       "      <td>http://party.kaboose.com/tea_party.html</td>\n",
       "      <td>4</td>\n",
       "      <td>party.kaboose.com</td>\n",
       "      <td>True</td>\n",
       "      <td>[app/datasets/webcredibility-1/webcredibility/...</td>\n",
       "    </tr>\n",
       "  </tbody>\n",
       "</table>\n",
       "<p>1000 rows × 8 columns</p>\n",
       "</div>"
      ],
      "text/plain": [
       "           Topic         Query  Result Rank  \\\n",
       "0    Celebrities  adam lambert            1   \n",
       "1    Celebrities  adam lambert            2   \n",
       "2    Celebrities  adam lambert            3   \n",
       "3    Celebrities  adam lambert            4   \n",
       "4    Celebrities  adam lambert            5   \n",
       "..           ...           ...          ...   \n",
       "995     Politics     Tea Party           36   \n",
       "996     Politics     Tea Party           37   \n",
       "997     Politics     Tea Party           38   \n",
       "998     Politics     Tea Party           39   \n",
       "999     Politics     Tea Party           40   \n",
       "\n",
       "                                                   URL  Likert Rating  \\\n",
       "0            http://en.wikipedia.org/wiki/Adam_Lambert              5   \n",
       "1                 http://www.adamofficial.com/us/intro              4   \n",
       "2                  http://www.adamofficial.com/us/home              4   \n",
       "3    http://www.thehollywoodgossip.com/2010/06/new-...              3   \n",
       "4    http://www.americanidol.com/contestants/season...              4   \n",
       "..                                                 ...            ...   \n",
       "995                        http://stlouisteaparty.com/              3   \n",
       "996  http://abcnews.go.com/Politics/tea-party-prote...              4   \n",
       "997  http://topics.politico.com/index.cfm/topic/Tea...              3   \n",
       "998          http://www.nationwidechicagoteaparty.com/              3   \n",
       "999            http://party.kaboose.com/tea_party.html              4   \n",
       "\n",
       "                                domain  check_cached_pages_existance  \\\n",
       "0                     en.wikipedia.org                         False   \n",
       "1                 www.adamofficial.com                          True   \n",
       "2                 www.adamofficial.com                          True   \n",
       "3           www.thehollywoodgossip.com                          True   \n",
       "4                 www.americanidol.com                          True   \n",
       "..                                 ...                           ...   \n",
       "995                stlouisteaparty.com                          True   \n",
       "996                     abcnews.go.com                          True   \n",
       "997                topics.politico.com                          True   \n",
       "998  www.nationwidechicagoteaparty.com                          True   \n",
       "999                  party.kaboose.com                          True   \n",
       "\n",
       "                                       html_walk_paths  \n",
       "0                                                   []  \n",
       "1    [app/datasets/webcredibility-1/webcredibility/...  \n",
       "2    [app/datasets/webcredibility-1/webcredibility/...  \n",
       "3    [app/datasets/webcredibility-1/webcredibility/...  \n",
       "4    [app/datasets/webcredibility-1/webcredibility/...  \n",
       "..                                                 ...  \n",
       "995  [app/datasets/webcredibility-1/webcredibility/...  \n",
       "996  [app/datasets/webcredibility-1/webcredibility/...  \n",
       "997  [app/datasets/webcredibility-1/webcredibility/...  \n",
       "998  [app/datasets/webcredibility-1/webcredibility/...  \n",
       "999  [app/datasets/webcredibility-1/webcredibility/...  \n",
       "\n",
       "[1000 rows x 8 columns]"
      ]
     },
     "execution_count": 13,
     "metadata": {},
     "output_type": "execute_result"
    }
   ],
   "source": [
    "import os\n",
    "\n",
    "def html_files_walk(path=None):\n",
    "    html_files = []\n",
    "    for dirpath, _, filenames in os.walk(path):\n",
    "        for file in filenames:\n",
    "            if file.endswith(\".html\"):  # Check if file has .html extension\n",
    "                full_path = os.path.join(dirpath, file)\n",
    "                html_files.append(full_path)\n",
    "    return html_files\n",
    "\n",
    "def get_html_files_path(dir_path=None):\n",
    "    # Root path where HTML files are cached\n",
    "    root_path = os.path.join(\"app\", \"datasets\", \"webcredibility-1\", \"webcredibility\", \"cached_pages\")\n",
    "    to_files_path = os.path.join(root_path,dir_path)\n",
    "    \n",
    "    if os.path.exists(to_files_path):\n",
    "        list_of_path = html_files_walk(path=to_files_path)\n",
    "    else:\n",
    "        list_of_path = []\n",
    "\n",
    "    return list_of_path\n",
    "        \n",
    "        \n",
    "        \n",
    "        \n",
    "\n",
    "\n",
    "web_credibility_1000_url_ratings_df['html_walk_paths'] = web_credibility_1000_url_ratings_df['domain'].apply(\n",
    "                                                                                lambda domain_name : get_html_files_path(dir_path = domain_name))\n",
    "\n",
    "web_credibility_1000_url_ratings_df"
   ]
  },
  {
   "cell_type": "code",
   "execution_count": 18,
   "id": "5b6453a737c84e1e",
   "metadata": {},
   "outputs": [
    {
     "data": {
      "text/plain": [
       "['app/datasets/webcredibility-1/webcredibility/cached_pages/www.americanidol.com/contestants/season_8/adam_lambert/index.html']"
      ]
     },
     "execution_count": 18,
     "metadata": {},
     "output_type": "execute_result"
    }
   ],
   "source": [
    "web_credibility_1000_url_ratings_df['html_walk_paths'][4]"
   ]
  },
  {
   "cell_type": "code",
   "execution_count": 24,
   "id": "9f37442d-a9af-40d8-b1ce-7c4898f1583f",
   "metadata": {},
   "outputs": [
    {
     "data": {
      "text/plain": [
       "Topic                                                                 Celebrities\n",
       "Query                                                                adam lambert\n",
       "Result Rank                                                                     2\n",
       "URL                                          http://www.adamofficial.com/us/intro\n",
       "Likert Rating                                                                   4\n",
       "domain                                                       www.adamofficial.com\n",
       "check_cached_pages_existance                                                 True\n",
       "html_walk_paths                 [app/datasets/webcredibility-1/webcredibility/...\n",
       "Name: 1, dtype: object"
      ]
     },
     "execution_count": 24,
     "metadata": {},
     "output_type": "execute_result"
    }
   ],
   "source": [
    "group_df"
   ]
  },
  {
   "cell_type": "code",
   "execution_count": 44,
   "id": "84eb03cd-3a8b-4c48-91a9-56c252f2fba4",
   "metadata": {},
   "outputs": [],
   "source": [
    "def calculate_keyword_density(text, keyword='credibility'):\n",
    "    words = text.lower().split()\n",
    "    return words.count(keyword.lower()) / max(len(words), 1)\n",
    "\n",
    "def extract_keyword_density_from_html(file_paths=None):\n",
    "    \n",
    "    try:\n",
    "        \n",
    "        features = {}\n",
    "        keyword_density_counter =0\n",
    "        for file_path in file_paths:\n",
    "            \n",
    "            # Read the HTML file\n",
    "            with open(file_path, 'r', encoding='utf-8',errors='replace') as file:\n",
    "                content = file.read()\n",
    "            # Parse the HTML content using BeautifulSoup\n",
    "            soup = BeautifulSoup(content, 'lxml')\n",
    "            \n",
    "            keyword_density = calculate_keyword_density(soup.get_text())\n",
    "\n",
    "            avg_sentence_length_counter = keyword_density_counter + keyword_density\n",
    "        return avg_sentence_length_counter\n",
    "    except Exception as e:\n",
    "        logging.info(f\"Error Found at extract_keyword_density_from_html : {file_paths}\",exc_info=True)"
   ]
  },
  {
   "cell_type": "code",
   "execution_count": 45,
   "id": "f9f41e68-8c50-4dcf-8bd4-ffbdb9988639",
   "metadata": {},
   "outputs": [
    {
     "name": "stderr",
     "output_type": "stream",
     "text": [
      "/tmp/ipykernel_19915/584757829.py:13: XMLParsedAsHTMLWarning: It looks like you're parsing an XML document using an HTML parser. If this really is an HTML document (maybe it's XHTML?), you can ignore or filter this warning. If it's XML, you should know that using an XML parser will be more reliable. To parse this document as XML, make sure you have the lxml package installed, and pass the keyword argument `features=\"xml\"` into the BeautifulSoup constructor.\n",
      "  soup = BeautifulSoup(content, 'lxml')\n"
     ]
    }
   ],
   "source": [
    "web_credibility_1000_url_ratings_df['keyword_density'] = web_credibility_1000_url_ratings_df['html_walk_paths'].apply(lambda path : extract_keyword_density_from_html(file_paths = path))\n"
   ]
  },
  {
   "cell_type": "code",
   "execution_count": 31,
   "id": "2b6cee0b-a557-4f16-893b-d0fc35455311",
   "metadata": {},
   "outputs": [
    {
     "name": "stdout",
     "output_type": "stream",
     "text": [
      "Index: 0\n",
      "Index: 1\n",
      "Cached pages exist for this row.\n",
      "['app/datasets/webcredibility-1/webcredibility/cached_pages/www.adamofficial.com/us/home.html', 'app/datasets/webcredibility-1/webcredibility/cached_pages/www.adamofficial.com/us/intro.html']\n",
      "word_count  : 574\n",
      "word_count  : 159\n"
     ]
    }
   ],
   "source": [
    "for index, group_df in web_credibility_1000_url_ratings_df.iterrows():\n",
    "    print(f\"Index: {index}\")\n",
    "    \n",
    "    # Check the value of 'check_cached_pages_existance'\n",
    "    if group_df['check_cached_pages_existance'] == True:\n",
    "        print(\"Cached pages exist for this row.\")\n",
    "        # You can process the row further here if needed\n",
    "        print(group_df['html_walk_paths'])\n",
    "        html_walk_paths = group_df['html_walk_paths']\n",
    "\n",
    "        extract_features_from_html(file_paths = html_walk_paths) \n",
    "        break\n"
   ]
  },
  {
   "cell_type": "code",
   "execution_count": 27,
   "id": "8dc36f61-33eb-4f9a-9fe8-83b1f43c7b59",
   "metadata": {},
   "outputs": [
    {
     "data": {
      "text/plain": [
       "['app/datasets/webcredibility-1/webcredibility/cached_pages/www.adamofficial.com/us/home.html',\n",
       " 'app/datasets/webcredibility-1/webcredibility/cached_pages/www.adamofficial.com/us/intro.html']"
      ]
     },
     "execution_count": 27,
     "metadata": {},
     "output_type": "execute_result"
    }
   ],
   "source": [
    "html_walk_paths"
   ]
  },
  {
   "cell_type": "markdown",
   "id": "9953274cedebf157",
   "metadata": {
    "jp-MarkdownHeadingCollapsed": true
   },
   "source": [
    "# 3.0 **Design and Technical Features**\n",
    "1. HTTPS usage (SSL certificate presence)\n",
    "2. Number of ads or iframes\n",
    "3. Mobile responsiveness\n",
    "4. Flesch Reading Ease score\n",
    "5. Page load time\n",
    "6. Total page size\n",
    "\n"
   ]
  },
  {
   "cell_type": "markdown",
   "id": "553f0a6a-cfee-41c3-b686-e9eeda3a47ce",
   "metadata": {},
   "source": [
    "# 4.0 **Media Features**\n",
    "1. Number of images\n",
    "2. Number of videos\n",
    "3. Presence of alt text for images\n",
    "\n",
    "\n"
   ]
  },
  {
   "cell_type": "markdown",
   "id": "e96dd93c-ea72-4a16-b3f1-691a76ebbe08",
   "metadata": {},
   "source": [
    "# 5. **Off-Page Features**\n",
    "1. Domain age\n",
    "2. Alexa rank or similar website ranking\n",
    "3. Number of backlinks\n",
    "4. Social media shares\n",
    "\n"
   ]
  },
  {
   "cell_type": "markdown",
   "id": "b609d96d-c5f5-4152-8c16-e9f26871ced3",
   "metadata": {},
   "source": [
    "# 6.0 **Aggregate Features**\n",
    "1. Number of unique visitors\n",
    "2. Average time spent on page\n",
    "3. Bounce rate\n",
    "4. Geographic diversity of visitors"
   ]
  },
  {
   "cell_type": "code",
   "execution_count": null,
   "id": "0206ae2b-57ac-497b-a40b-3a2ecaa056db",
   "metadata": {},
   "outputs": [],
   "source": []
  }
 ],
 "metadata": {
  "kernelspec": {
   "display_name": "Python 3 (ipykernel)",
   "language": "python",
   "name": "python3"
  },
  "language_info": {
   "codemirror_mode": {
    "name": "ipython",
    "version": 3
   },
   "file_extension": ".py",
   "mimetype": "text/x-python",
   "name": "python",
   "nbconvert_exporter": "python",
   "pygments_lexer": "ipython3",
   "version": "3.12.3"
  }
 },
 "nbformat": 4,
 "nbformat_minor": 5
}
